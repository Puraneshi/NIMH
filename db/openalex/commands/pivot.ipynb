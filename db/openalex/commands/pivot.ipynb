{
 "cells": [
  {
   "cell_type": "markdown",
   "source": [
    "#### Step 1: Download '2019-2022 5 IC' as csv\n",
    "#### Step 2: Use 'works' and 'works_ids' from OpenAlex and '2019-2022 5 IC' to get data similar to '2019-2022 5 IC' that only contains publications of type 'article'\n",
    "#### Step 3: Count the unique PubMedIds(PMID) from each IC and unique PMID total(which are different because a single PMID can appear in more than one IC)\n",
    "#### Step 4: Count the 'is_open_data' True values from each IC and the total"
   ],
   "metadata": {
    "collapsed": false,
    "pycharm": {
     "name": "#%% md\n"
    }
   }
  },
  {
   "cell_type": "code",
   "execution_count": 1,
   "outputs": [],
   "source": [
    "import pandas as pd"
   ],
   "metadata": {
    "collapsed": false,
    "pycharm": {
     "name": "#%%\n"
    }
   }
  },
  {
   "cell_type": "markdown",
   "source": [
    "We want the publications which are articles from google sheets\n",
    "We have the pmid on google sheets and openalex-works-ids\n",
    "We have the type on works\n",
    "We have the work-id on works and works-ids"
   ],
   "metadata": {
    "collapsed": false,
    "pycharm": {
     "name": "#%% md\n"
    }
   }
  },
  {
   "cell_type": "code",
   "execution_count": 2,
   "outputs": [],
   "source": [
    "sheets_df = pd.read_csv('dsst.csv')"
   ],
   "metadata": {
    "collapsed": false,
    "pycharm": {
     "name": "#%%\n"
    }
   }
  },
  {
   "cell_type": "code",
   "execution_count": 4,
   "outputs": [],
   "source": [
    "import gzip\n",
    "\n",
    "with gzip.open('csv-files/works.csv.gz') as f:\n",
    "    works_df = pd.read_csv(f)\n",
    "with gzip.open('csv-files/works_ids.csv.gz') as f:\n",
    "    id_df = pd.read_csv(f)"
   ],
   "metadata": {
    "collapsed": false,
    "pycharm": {
     "name": "#%%\n"
    }
   }
  },
  {
   "cell_type": "code",
   "execution_count": 5,
   "outputs": [],
   "source": [
    "# Openalex id of articles\n",
    "article_work_ids = works_df.loc[works_df['type'] == 'article', 'id']"
   ],
   "metadata": {
    "collapsed": false,
    "pycharm": {
     "name": "#%%\n"
    }
   }
  },
  {
   "cell_type": "code",
   "execution_count": 6,
   "outputs": [],
   "source": [
    "# The pmid from the articles\n",
    "article_pmid = id_df.loc[id_df['work_id'].isin(article_work_ids), 'pmid'].str.extract(r'(\\d+)').astype(int)\n",
    "article_pmid = article_pmid[0]"
   ],
   "metadata": {
    "collapsed": false,
    "pycharm": {
     "name": "#%%\n"
    }
   }
  },
  {
   "cell_type": "code",
   "execution_count": 7,
   "outputs": [],
   "source": [
    "# The publications on the google sheets that are articles\n",
    "opendata_articles = sheets_df[sheets_df['PMID'].isin(article_pmid)]"
   ],
   "metadata": {
    "collapsed": false,
    "pycharm": {
     "name": "#%%\n"
    }
   }
  },
  {
   "cell_type": "code",
   "execution_count": 8,
   "outputs": [],
   "source": [
    "# Unique pmid after grouping ICs\n",
    "countUnique = opendata_articles.groupby('IC')['PMID'].nunique()"
   ],
   "metadata": {
    "collapsed": false,
    "pycharm": {
     "name": "#%%\n"
    }
   }
  },
  {
   "cell_type": "code",
   "execution_count": 34,
   "outputs": [],
   "source": [
    "# Articles which are open data\n",
    "pmidopendata = opendata_articles[opendata_articles['is_open_data']].groupby('IC')['PMID'].nunique()"
   ],
   "metadata": {
    "collapsed": false,
    "pycharm": {
     "name": "#%%\n"
    }
   }
  },
  {
   "cell_type": "code",
   "execution_count": 35,
   "outputs": [],
   "source": [
    "# All the articles by IC and all articles that are open data by IC\n",
    "pivot = pd.concat([countUnique, pmidopendata], axis=1)\n",
    "pivot.columns = ['unique', 'open_data']\n",
    "pivot.reset_index(inplace=True)"
   ],
   "metadata": {
    "collapsed": false,
    "pycharm": {
     "name": "#%%\n"
    }
   }
  },
  {
   "cell_type": "code",
   "execution_count": 36,
   "outputs": [],
   "source": [
    "# The percentage of open articles\n",
    "pivot['%'] = pivot['open_data']/pivot['unique']"
   ],
   "metadata": {
    "collapsed": false,
    "pycharm": {
     "name": "#%%\n"
    }
   }
  },
  {
   "cell_type": "code",
   "execution_count": 41,
   "outputs": [],
   "source": [
    "# The total, removing pmids that repeat across ICs\n",
    "final_row = {\n",
    "    'IC': 'Grand Total',\n",
    "    'unique': opendata_articles['PMID'].nunique(),\n",
    "    'open_data': opendata_articles[opendata_articles['is_open_data']]['PMID'].nunique(),\n",
    "    '%': pivot['%'].mean()\n",
    "}"
   ],
   "metadata": {
    "collapsed": false,
    "pycharm": {
     "name": "#%%\n"
    }
   }
  },
  {
   "cell_type": "code",
   "execution_count": 42,
   "outputs": [
    {
     "data": {
      "text/plain": "            IC  unique  open_data         %\n0          NCI    4658        903  0.193860\n1        NHGRI     593        171  0.288364\n2        NICHD    1053        165  0.156695\n3         NIMH     944        134  0.141949\n4        NINDS     720         96  0.133333\n5  Grand Total    7761       1419  0.182840",
      "text/html": "<div>\n<style scoped>\n    .dataframe tbody tr th:only-of-type {\n        vertical-align: middle;\n    }\n\n    .dataframe tbody tr th {\n        vertical-align: top;\n    }\n\n    .dataframe thead th {\n        text-align: right;\n    }\n</style>\n<table border=\"1\" class=\"dataframe\">\n  <thead>\n    <tr style=\"text-align: right;\">\n      <th></th>\n      <th>IC</th>\n      <th>unique</th>\n      <th>open_data</th>\n      <th>%</th>\n    </tr>\n  </thead>\n  <tbody>\n    <tr>\n      <th>0</th>\n      <td>NCI</td>\n      <td>4658</td>\n      <td>903</td>\n      <td>0.193860</td>\n    </tr>\n    <tr>\n      <th>1</th>\n      <td>NHGRI</td>\n      <td>593</td>\n      <td>171</td>\n      <td>0.288364</td>\n    </tr>\n    <tr>\n      <th>2</th>\n      <td>NICHD</td>\n      <td>1053</td>\n      <td>165</td>\n      <td>0.156695</td>\n    </tr>\n    <tr>\n      <th>3</th>\n      <td>NIMH</td>\n      <td>944</td>\n      <td>134</td>\n      <td>0.141949</td>\n    </tr>\n    <tr>\n      <th>4</th>\n      <td>NINDS</td>\n      <td>720</td>\n      <td>96</td>\n      <td>0.133333</td>\n    </tr>\n    <tr>\n      <th>5</th>\n      <td>Grand Total</td>\n      <td>7761</td>\n      <td>1419</td>\n      <td>0.182840</td>\n    </tr>\n  </tbody>\n</table>\n</div>"
     },
     "execution_count": 42,
     "metadata": {},
     "output_type": "execute_result"
    }
   ],
   "source": [
    "pd.concat([pivot, pd.DataFrame([final_row])], ignore_index=True)"
   ],
   "metadata": {
    "collapsed": false,
    "pycharm": {
     "name": "#%%\n"
    }
   }
  },
  {
   "cell_type": "code",
   "execution_count": null,
   "outputs": [],
   "source": [],
   "metadata": {
    "collapsed": false,
    "pycharm": {
     "name": "#%%\n"
    }
   }
  }
 ],
 "metadata": {
  "kernelspec": {
   "display_name": "Python 3",
   "language": "python",
   "name": "python3"
  },
  "language_info": {
   "codemirror_mode": {
    "name": "ipython",
    "version": 2
   },
   "file_extension": ".py",
   "mimetype": "text/x-python",
   "name": "python",
   "nbconvert_exporter": "python",
   "pygments_lexer": "ipython2",
   "version": "2.7.6"
  }
 },
 "nbformat": 4,
 "nbformat_minor": 0
}